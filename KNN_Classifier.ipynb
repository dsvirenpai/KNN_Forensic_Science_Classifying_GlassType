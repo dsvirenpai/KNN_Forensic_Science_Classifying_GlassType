{
 "cells": [
  {
   "cell_type": "raw",
   "id": "0a0d9be6",
   "metadata": {},
   "source": [
    "Data Description:\n",
    "    Total Observations: 214\n",
    "    Total Features: 10\n",
    "    Dependent Feature: Type\n",
    "\n",
    "    Features:\n",
    "        RI(float64) - Refractive Index \n",
    "        Na(float64) - Percentage Composition of Sodium\n",
    "        Mg(float64) - Percentage Composition of Magnesium\n",
    "        Al(float64) - Percentage Composition of Aluminium\n",
    "        Si(float64) - Percentage Composition of Silicon\n",
    "        K(float64)  - Percentage Composition of Potassium\n",
    "        Ca(float64) - Percentage Composition of Calcium\n",
    "        Ba(float64) - Percentage Composition of Barium\n",
    "        Fe(float64) - Percentage Composition of Iron\n",
    "        Type(int64) - Glass Type"
   ]
  },
  {
   "cell_type": "code",
   "execution_count": 123,
   "id": "9c41970a",
   "metadata": {},
   "outputs": [],
   "source": [
    "# Importing packages\n",
    "import pandas as pd\n",
    "import numpy as np\n",
    "import matplotlib.pyplot as plt\n",
    "import seaborn as sns\n",
    "\n",
    "#For Feature Engineering \n",
    "from feature_engine.outliers import Winsorizer\n",
    "from sklearn.preprocessing import MinMaxScaler\n",
    "from sklearn.compose import ColumnTransformer\n",
    "import sidetable as stb\n",
    "\n",
    "#For creating synthetic data\n",
    "from imblearn.over_sampling import SMOTE\n",
    "\n",
    "#Model Building\n",
    "from sklearn.model_selection import train_test_split, GridSearchCV\n",
    "from sklearn.neighbors import KNeighborsClassifier\n",
    "\n",
    "#Model Evaluation\n",
    "from sklearn.metrics import accuracy_score, confusion_matrix, ConfusionMatrixDisplay, classification_report"
   ]
  },
  {
   "cell_type": "code",
   "execution_count": 2,
   "id": "3d2085a1",
   "metadata": {},
   "outputs": [],
   "source": [
    "#Reading data from .csv file\n",
    "glass = pd.read_csv(r\"C:\\Users\\Viren Pai\\OneDrive\\Desktop\\360DigiTMG\\DataScience_Assignments\\KNN\\glass\\glass.csv\")"
   ]
  },
  {
   "cell_type": "code",
   "execution_count": 3,
   "id": "dbdeb894",
   "metadata": {},
   "outputs": [
    {
     "data": {
      "text/plain": [
       "(214, 10)"
      ]
     },
     "execution_count": 3,
     "metadata": {},
     "output_type": "execute_result"
    }
   ],
   "source": [
    "#shape of the dataframe\n",
    "glass.shape"
   ]
  },
  {
   "cell_type": "code",
   "execution_count": 4,
   "id": "f3817ae6",
   "metadata": {},
   "outputs": [
    {
     "data": {
      "text/html": [
       "<div>\n",
       "<style scoped>\n",
       "    .dataframe tbody tr th:only-of-type {\n",
       "        vertical-align: middle;\n",
       "    }\n",
       "\n",
       "    .dataframe tbody tr th {\n",
       "        vertical-align: top;\n",
       "    }\n",
       "\n",
       "    .dataframe thead th {\n",
       "        text-align: right;\n",
       "    }\n",
       "</style>\n",
       "<table border=\"1\" class=\"dataframe\">\n",
       "  <thead>\n",
       "    <tr style=\"text-align: right;\">\n",
       "      <th></th>\n",
       "      <th>RI</th>\n",
       "      <th>Na</th>\n",
       "      <th>Mg</th>\n",
       "      <th>Al</th>\n",
       "      <th>Si</th>\n",
       "      <th>K</th>\n",
       "      <th>Ca</th>\n",
       "      <th>Ba</th>\n",
       "      <th>Fe</th>\n",
       "      <th>Type</th>\n",
       "    </tr>\n",
       "  </thead>\n",
       "  <tbody>\n",
       "    <tr>\n",
       "      <th>187</th>\n",
       "      <td>1.52315</td>\n",
       "      <td>13.44</td>\n",
       "      <td>3.34</td>\n",
       "      <td>1.23</td>\n",
       "      <td>72.38</td>\n",
       "      <td>0.60</td>\n",
       "      <td>8.83</td>\n",
       "      <td>0.00</td>\n",
       "      <td>0.00</td>\n",
       "      <td>7</td>\n",
       "    </tr>\n",
       "    <tr>\n",
       "      <th>17</th>\n",
       "      <td>1.52196</td>\n",
       "      <td>14.36</td>\n",
       "      <td>3.85</td>\n",
       "      <td>0.89</td>\n",
       "      <td>71.36</td>\n",
       "      <td>0.15</td>\n",
       "      <td>9.15</td>\n",
       "      <td>0.00</td>\n",
       "      <td>0.00</td>\n",
       "      <td>1</td>\n",
       "    </tr>\n",
       "    <tr>\n",
       "      <th>203</th>\n",
       "      <td>1.51658</td>\n",
       "      <td>14.80</td>\n",
       "      <td>0.00</td>\n",
       "      <td>1.99</td>\n",
       "      <td>73.11</td>\n",
       "      <td>0.00</td>\n",
       "      <td>8.28</td>\n",
       "      <td>1.71</td>\n",
       "      <td>0.00</td>\n",
       "      <td>7</td>\n",
       "    </tr>\n",
       "    <tr>\n",
       "      <th>59</th>\n",
       "      <td>1.51754</td>\n",
       "      <td>13.39</td>\n",
       "      <td>3.66</td>\n",
       "      <td>1.19</td>\n",
       "      <td>72.79</td>\n",
       "      <td>0.57</td>\n",
       "      <td>8.27</td>\n",
       "      <td>0.00</td>\n",
       "      <td>0.11</td>\n",
       "      <td>1</td>\n",
       "    </tr>\n",
       "    <tr>\n",
       "      <th>158</th>\n",
       "      <td>1.51776</td>\n",
       "      <td>13.53</td>\n",
       "      <td>3.41</td>\n",
       "      <td>1.52</td>\n",
       "      <td>72.04</td>\n",
       "      <td>0.58</td>\n",
       "      <td>8.79</td>\n",
       "      <td>0.00</td>\n",
       "      <td>0.00</td>\n",
       "      <td>3</td>\n",
       "    </tr>\n",
       "  </tbody>\n",
       "</table>\n",
       "</div>"
      ],
      "text/plain": [
       "          RI     Na    Mg    Al     Si     K    Ca    Ba    Fe  Type\n",
       "187  1.52315  13.44  3.34  1.23  72.38  0.60  8.83  0.00  0.00     7\n",
       "17   1.52196  14.36  3.85  0.89  71.36  0.15  9.15  0.00  0.00     1\n",
       "203  1.51658  14.80  0.00  1.99  73.11  0.00  8.28  1.71  0.00     7\n",
       "59   1.51754  13.39  3.66  1.19  72.79  0.57  8.27  0.00  0.11     1\n",
       "158  1.51776  13.53  3.41  1.52  72.04  0.58  8.79  0.00  0.00     3"
      ]
     },
     "execution_count": 4,
     "metadata": {},
     "output_type": "execute_result"
    }
   ],
   "source": [
    "#sample records\n",
    "glass.sample(5)"
   ]
  },
  {
   "cell_type": "code",
   "execution_count": 5,
   "id": "f590c7df",
   "metadata": {},
   "outputs": [
    {
     "name": "stdout",
     "output_type": "stream",
     "text": [
      "<class 'pandas.core.frame.DataFrame'>\n",
      "RangeIndex: 214 entries, 0 to 213\n",
      "Data columns (total 10 columns):\n",
      " #   Column  Non-Null Count  Dtype  \n",
      "---  ------  --------------  -----  \n",
      " 0   RI      214 non-null    float64\n",
      " 1   Na      214 non-null    float64\n",
      " 2   Mg      214 non-null    float64\n",
      " 3   Al      214 non-null    float64\n",
      " 4   Si      214 non-null    float64\n",
      " 5   K       214 non-null    float64\n",
      " 6   Ca      214 non-null    float64\n",
      " 7   Ba      214 non-null    float64\n",
      " 8   Fe      214 non-null    float64\n",
      " 9   Type    214 non-null    int64  \n",
      "dtypes: float64(9), int64(1)\n",
      "memory usage: 16.8 KB\n"
     ]
    }
   ],
   "source": [
    "#Data types of features\n",
    "glass.info()"
   ]
  },
  {
   "cell_type": "code",
   "execution_count": 6,
   "id": "563775c6",
   "metadata": {},
   "outputs": [
    {
     "data": {
      "text/plain": [
       "RI      0\n",
       "Na      0\n",
       "Mg      0\n",
       "Al      0\n",
       "Si      0\n",
       "K       0\n",
       "Ca      0\n",
       "Ba      0\n",
       "Fe      0\n",
       "Type    0\n",
       "dtype: int64"
      ]
     },
     "execution_count": 6,
     "metadata": {},
     "output_type": "execute_result"
    }
   ],
   "source": [
    "#Checking for missing values\n",
    "glass.isna().sum()"
   ]
  },
  {
   "cell_type": "code",
   "execution_count": 7,
   "id": "c4591882",
   "metadata": {},
   "outputs": [
    {
     "data": {
      "text/plain": [
       "1"
      ]
     },
     "execution_count": 7,
     "metadata": {},
     "output_type": "execute_result"
    }
   ],
   "source": [
    "#Checking for duplicates\n",
    "glass.duplicated().sum()\n",
    "\n",
    "# 1 duplicate identified"
   ]
  },
  {
   "cell_type": "code",
   "execution_count": 8,
   "id": "4c485ea7",
   "metadata": {},
   "outputs": [
    {
     "data": {
      "text/plain": [
       "(213, 10)"
      ]
     },
     "execution_count": 8,
     "metadata": {},
     "output_type": "execute_result"
    }
   ],
   "source": [
    "#Dropping identified Duplicate\n",
    "glass.drop_duplicates(inplace = True, ignore_index = True)\n",
    "glass.shape"
   ]
  },
  {
   "cell_type": "code",
   "execution_count": 9,
   "id": "994c02a8",
   "metadata": {},
   "outputs": [
    {
     "data": {
      "text/plain": [
       "RI      178\n",
       "Na      142\n",
       "Mg       94\n",
       "Al      118\n",
       "Si      133\n",
       "K        65\n",
       "Ca      143\n",
       "Ba       34\n",
       "Fe       32\n",
       "Type      6\n",
       "dtype: int64"
      ]
     },
     "execution_count": 9,
     "metadata": {},
     "output_type": "execute_result"
    }
   ],
   "source": [
    "#Cardinality of Features\n",
    "glass.nunique()"
   ]
  },
  {
   "cell_type": "code",
   "execution_count": 10,
   "id": "05d21cf1",
   "metadata": {},
   "outputs": [
    {
     "data": {
      "text/html": [
       "<div>\n",
       "<style scoped>\n",
       "    .dataframe tbody tr th:only-of-type {\n",
       "        vertical-align: middle;\n",
       "    }\n",
       "\n",
       "    .dataframe tbody tr th {\n",
       "        vertical-align: top;\n",
       "    }\n",
       "\n",
       "    .dataframe thead th {\n",
       "        text-align: right;\n",
       "    }\n",
       "</style>\n",
       "<table border=\"1\" class=\"dataframe\">\n",
       "  <thead>\n",
       "    <tr style=\"text-align: right;\">\n",
       "      <th></th>\n",
       "      <th>RI</th>\n",
       "      <th>Na</th>\n",
       "      <th>Mg</th>\n",
       "      <th>Al</th>\n",
       "      <th>Si</th>\n",
       "      <th>K</th>\n",
       "      <th>Ca</th>\n",
       "      <th>Ba</th>\n",
       "      <th>Fe</th>\n",
       "      <th>Type</th>\n",
       "    </tr>\n",
       "  </thead>\n",
       "  <tbody>\n",
       "    <tr>\n",
       "      <th>count</th>\n",
       "      <td>213.000000</td>\n",
       "      <td>213.000000</td>\n",
       "      <td>213.000000</td>\n",
       "      <td>213.000000</td>\n",
       "      <td>213.000000</td>\n",
       "      <td>213.000000</td>\n",
       "      <td>213.000000</td>\n",
       "      <td>213.000000</td>\n",
       "      <td>213.000000</td>\n",
       "      <td>213.000000</td>\n",
       "    </tr>\n",
       "    <tr>\n",
       "      <th>mean</th>\n",
       "      <td>1.518348</td>\n",
       "      <td>13.404085</td>\n",
       "      <td>2.679202</td>\n",
       "      <td>1.449484</td>\n",
       "      <td>72.655070</td>\n",
       "      <td>0.498873</td>\n",
       "      <td>8.954085</td>\n",
       "      <td>0.175869</td>\n",
       "      <td>0.057277</td>\n",
       "      <td>2.788732</td>\n",
       "    </tr>\n",
       "    <tr>\n",
       "      <th>std</th>\n",
       "      <td>0.003033</td>\n",
       "      <td>0.816662</td>\n",
       "      <td>1.443691</td>\n",
       "      <td>0.495925</td>\n",
       "      <td>0.773998</td>\n",
       "      <td>0.653185</td>\n",
       "      <td>1.425882</td>\n",
       "      <td>0.498245</td>\n",
       "      <td>0.097589</td>\n",
       "      <td>2.105130</td>\n",
       "    </tr>\n",
       "    <tr>\n",
       "      <th>min</th>\n",
       "      <td>1.511150</td>\n",
       "      <td>10.730000</td>\n",
       "      <td>0.000000</td>\n",
       "      <td>0.290000</td>\n",
       "      <td>69.810000</td>\n",
       "      <td>0.000000</td>\n",
       "      <td>5.430000</td>\n",
       "      <td>0.000000</td>\n",
       "      <td>0.000000</td>\n",
       "      <td>1.000000</td>\n",
       "    </tr>\n",
       "    <tr>\n",
       "      <th>25%</th>\n",
       "      <td>1.516520</td>\n",
       "      <td>12.900000</td>\n",
       "      <td>2.090000</td>\n",
       "      <td>1.190000</td>\n",
       "      <td>72.280000</td>\n",
       "      <td>0.130000</td>\n",
       "      <td>8.240000</td>\n",
       "      <td>0.000000</td>\n",
       "      <td>0.000000</td>\n",
       "      <td>1.000000</td>\n",
       "    </tr>\n",
       "    <tr>\n",
       "      <th>50%</th>\n",
       "      <td>1.517680</td>\n",
       "      <td>13.300000</td>\n",
       "      <td>3.480000</td>\n",
       "      <td>1.360000</td>\n",
       "      <td>72.790000</td>\n",
       "      <td>0.560000</td>\n",
       "      <td>8.600000</td>\n",
       "      <td>0.000000</td>\n",
       "      <td>0.000000</td>\n",
       "      <td>2.000000</td>\n",
       "    </tr>\n",
       "    <tr>\n",
       "      <th>75%</th>\n",
       "      <td>1.519150</td>\n",
       "      <td>13.810000</td>\n",
       "      <td>3.600000</td>\n",
       "      <td>1.630000</td>\n",
       "      <td>73.090000</td>\n",
       "      <td>0.610000</td>\n",
       "      <td>9.150000</td>\n",
       "      <td>0.000000</td>\n",
       "      <td>0.100000</td>\n",
       "      <td>3.000000</td>\n",
       "    </tr>\n",
       "    <tr>\n",
       "      <th>max</th>\n",
       "      <td>1.533930</td>\n",
       "      <td>17.380000</td>\n",
       "      <td>4.490000</td>\n",
       "      <td>3.500000</td>\n",
       "      <td>75.410000</td>\n",
       "      <td>6.210000</td>\n",
       "      <td>16.190000</td>\n",
       "      <td>3.150000</td>\n",
       "      <td>0.510000</td>\n",
       "      <td>7.000000</td>\n",
       "    </tr>\n",
       "  </tbody>\n",
       "</table>\n",
       "</div>"
      ],
      "text/plain": [
       "               RI          Na          Mg          Al          Si           K  \\\n",
       "count  213.000000  213.000000  213.000000  213.000000  213.000000  213.000000   \n",
       "mean     1.518348   13.404085    2.679202    1.449484   72.655070    0.498873   \n",
       "std      0.003033    0.816662    1.443691    0.495925    0.773998    0.653185   \n",
       "min      1.511150   10.730000    0.000000    0.290000   69.810000    0.000000   \n",
       "25%      1.516520   12.900000    2.090000    1.190000   72.280000    0.130000   \n",
       "50%      1.517680   13.300000    3.480000    1.360000   72.790000    0.560000   \n",
       "75%      1.519150   13.810000    3.600000    1.630000   73.090000    0.610000   \n",
       "max      1.533930   17.380000    4.490000    3.500000   75.410000    6.210000   \n",
       "\n",
       "               Ca          Ba          Fe        Type  \n",
       "count  213.000000  213.000000  213.000000  213.000000  \n",
       "mean     8.954085    0.175869    0.057277    2.788732  \n",
       "std      1.425882    0.498245    0.097589    2.105130  \n",
       "min      5.430000    0.000000    0.000000    1.000000  \n",
       "25%      8.240000    0.000000    0.000000    1.000000  \n",
       "50%      8.600000    0.000000    0.000000    2.000000  \n",
       "75%      9.150000    0.000000    0.100000    3.000000  \n",
       "max     16.190000    3.150000    0.510000    7.000000  "
      ]
     },
     "execution_count": 10,
     "metadata": {},
     "output_type": "execute_result"
    }
   ],
   "source": [
    "#Stats of Numerical Features\n",
    "glass.describe()"
   ]
  },
  {
   "cell_type": "code",
   "execution_count": 11,
   "id": "69b4a7b4",
   "metadata": {},
   "outputs": [
    {
     "data": {
      "image/png": "[encoded data removed]",
      "text/plain": [
       "<Figure size 1080x720 with 2 Axes>"
      ]
     },
     "metadata": {
      "needs_background": "light"
     },
     "output_type": "display_data"
    }
   ],
   "source": [
    "#Correlation plot\n",
    "plt.figure(figsize = (15,10))\n",
    "sns.heatmap(glass.corr(), annot = True)\n",
    "plt.show()"
   ]
  },
  {
   "cell_type": "code",
   "execution_count": 12,
   "id": "39f301cf",
   "metadata": {},
   "outputs": [
    {
     "data": {
      "text/html": [
       "<div>\n",
       "<style scoped>\n",
       "    .dataframe tbody tr th:only-of-type {\n",
       "        vertical-align: middle;\n",
       "    }\n",
       "\n",
       "    .dataframe tbody tr th {\n",
       "        vertical-align: top;\n",
       "    }\n",
       "\n",
       "    .dataframe thead th {\n",
       "        text-align: right;\n",
       "    }\n",
       "</style>\n",
       "<table border=\"1\" class=\"dataframe\">\n",
       "  <thead>\n",
       "    <tr style=\"text-align: right;\">\n",
       "      <th></th>\n",
       "      <th>Type</th>\n",
       "      <th>count</th>\n",
       "      <th>percent</th>\n",
       "      <th>cumulative_count</th>\n",
       "      <th>cumulative_percent</th>\n",
       "    </tr>\n",
       "  </thead>\n",
       "  <tbody>\n",
       "    <tr>\n",
       "      <th>0</th>\n",
       "      <td>2</td>\n",
       "      <td>76</td>\n",
       "      <td>35.680751</td>\n",
       "      <td>76</td>\n",
       "      <td>35.680751</td>\n",
       "    </tr>\n",
       "    <tr>\n",
       "      <th>1</th>\n",
       "      <td>1</td>\n",
       "      <td>69</td>\n",
       "      <td>32.394366</td>\n",
       "      <td>145</td>\n",
       "      <td>68.075117</td>\n",
       "    </tr>\n",
       "    <tr>\n",
       "      <th>2</th>\n",
       "      <td>7</td>\n",
       "      <td>29</td>\n",
       "      <td>13.615023</td>\n",
       "      <td>174</td>\n",
       "      <td>81.690141</td>\n",
       "    </tr>\n",
       "    <tr>\n",
       "      <th>3</th>\n",
       "      <td>3</td>\n",
       "      <td>17</td>\n",
       "      <td>7.981221</td>\n",
       "      <td>191</td>\n",
       "      <td>89.671362</td>\n",
       "    </tr>\n",
       "    <tr>\n",
       "      <th>4</th>\n",
       "      <td>5</td>\n",
       "      <td>13</td>\n",
       "      <td>6.103286</td>\n",
       "      <td>204</td>\n",
       "      <td>95.774648</td>\n",
       "    </tr>\n",
       "    <tr>\n",
       "      <th>5</th>\n",
       "      <td>6</td>\n",
       "      <td>9</td>\n",
       "      <td>4.225352</td>\n",
       "      <td>213</td>\n",
       "      <td>100.000000</td>\n",
       "    </tr>\n",
       "  </tbody>\n",
       "</table>\n",
       "</div>"
      ],
      "text/plain": [
       "   Type  count    percent  cumulative_count  cumulative_percent\n",
       "0     2     76  35.680751                76           35.680751\n",
       "1     1     69  32.394366               145           68.075117\n",
       "2     7     29  13.615023               174           81.690141\n",
       "3     3     17   7.981221               191           89.671362\n",
       "4     5     13   6.103286               204           95.774648\n",
       "5     6      9   4.225352               213          100.000000"
      ]
     },
     "execution_count": 12,
     "metadata": {},
     "output_type": "execute_result"
    }
   ],
   "source": [
    "#Frequency Table of target variable to check for class-imbalance\n",
    "glass.stb.freq(['Type'])\n",
    "\n",
    "#The dataset has imbalance class problem"
   ]
  },
  {
   "cell_type": "raw",
   "id": "f0555699",
   "metadata": {},
   "source": [
    "Analysis from Data Profiling:\n",
    "1. Near-zero variance features were identified: 'RI', 'Fe'\n",
    "2. Dataset has imbalance class problem. Out of 6 classes, 3 of them represent ~80% of data\n",
    "\n",
    "\n",
    "Plan (EDA, Feature Selection):\n",
    "1. Analyze the data distributions of 'near-zero' variance features and check if they can be eliminated\n",
    "2. Creating Synthetic data to counter imbalance class problem through Oversampling"
   ]
  },
  {
   "cell_type": "markdown",
   "id": "0243c2bf",
   "metadata": {},
   "source": [
    "###### Analyzing redundancy of near-zero variance features"
   ]
  },
  {
   "cell_type": "code",
   "execution_count": 13,
   "id": "c628d30c",
   "metadata": {},
   "outputs": [
    {
     "data": {
      "image/png": "[encoded data removed]",
      "text/plain": [
       "<Figure size 1080x576 with 1 Axes>"
      ]
     },
     "metadata": {
      "needs_background": "light"
     },
     "output_type": "display_data"
    }
   ],
   "source": [
    "#Analyzing redundancy of near-zero variance feature: 'RI'\n",
    "RI_data = glass.loc[:, ['Type', 'RI']]\n",
    "\n",
    "plt.figure(figsize = (15,8))\n",
    "sns.boxplot(x = 'Type', y = 'RI', data = RI_data)\n",
    "plt.show()"
   ]
  },
  {
   "cell_type": "code",
   "execution_count": 14,
   "id": "10acb596",
   "metadata": {},
   "outputs": [],
   "source": [
    "#To check if the means of features across 'Type's is statistically significant\n",
    "\n",
    "type1 = RI_data[(RI_data.Type == 1)]['RI']\n",
    "type2 = RI_data[(RI_data.Type == 2)]['RI']\n",
    "type3 = RI_data[(RI_data.Type == 3)]['RI']\n",
    "type5 = RI_data[(RI_data.Type == 5)]['RI']\n",
    "type6 = RI_data[(RI_data.Type == 6)]['RI']\n",
    "type7 = RI_data[(RI_data.Type == 7)]['RI']"
   ]
  },
  {
   "cell_type": "code",
   "execution_count": 15,
   "id": "d697f47c",
   "metadata": {},
   "outputs": [
    {
     "data": {
      "text/plain": [
       "F_onewayResult(statistic=1.55775037225545, pvalue=0.17350991394334964)"
      ]
     },
     "execution_count": 15,
     "metadata": {},
     "output_type": "execute_result"
    }
   ],
   "source": [
    "#ANOVA to test for statistical significance between the means of 'RI' across types\n",
    "import scipy.stats as stats\n",
    "\n",
    "#Null Hypothesis: There is no statistically significant difference between the means of 'RI' across 'Type's\n",
    "#Alternate Hypothesis: There is at least one significant difference between the means\n",
    "#level of significance: 0.05\n",
    "\n",
    "stats.f_oneway(type1, type2, type3, type5, type6, type7)"
   ]
  },
  {
   "cell_type": "raw",
   "id": "ce345b67",
   "metadata": {},
   "source": [
    "pvalue=0.1735099 > 0.05\n",
    "Conclusion: \n",
    "    Fail to reject Null Hypothesis\n",
    "    'RI' is not significantly explaining the variance across 'Type's\n",
    "    'RI' can be identified as insignificant and can be dropped from modelling"
   ]
  },
  {
   "cell_type": "code",
   "execution_count": 16,
   "id": "2f613f74",
   "metadata": {},
   "outputs": [
    {
     "data": {
      "image/png": "[encoded data removed]",
      "text/plain": [
       "<Figure size 1080x576 with 1 Axes>"
      ]
     },
     "metadata": {
      "needs_background": "light"
     },
     "output_type": "display_data"
    }
   ],
   "source": [
    "#Analyzing redundancy of near-zero variance feature: 'RI'\n",
    "Fe_data = glass.loc[:, ['Type', 'Fe']]\n",
    "\n",
    "plt.figure(figsize = (15,8))\n",
    "sns.boxplot(x = 'Type', y = 'Fe', data = Fe_data)\n",
    "plt.show()"
   ]
  },
  {
   "cell_type": "code",
   "execution_count": 17,
   "id": "70b4531c",
   "metadata": {},
   "outputs": [],
   "source": [
    "#To check if the means of features across 'Type's is statistically significant\n",
    "\n",
    "type1 = Fe_data[(Fe_data.Type == 1)]['Fe']\n",
    "type2 = Fe_data[(Fe_data.Type == 2)]['Fe']\n",
    "type3 = Fe_data[(Fe_data.Type == 3)]['Fe']\n",
    "type5 = Fe_data[(Fe_data.Type == 5)]['Fe']\n",
    "type6 = Fe_data[(Fe_data.Type == 6)]['Fe']\n",
    "type7 = Fe_data[(Fe_data.Type == 7)]['Fe']"
   ]
  },
  {
   "cell_type": "code",
   "execution_count": 18,
   "id": "03e0dfbd",
   "metadata": {},
   "outputs": [
    {
     "data": {
      "text/plain": [
       "F_onewayResult(statistic=2.70321282758454, pvalue=0.021686035644066383)"
      ]
     },
     "execution_count": 18,
     "metadata": {},
     "output_type": "execute_result"
    }
   ],
   "source": [
    "#Null Hypothesis: There is no statistically significant difference between the means of 'Fe' across 'Type's\n",
    "#Alternate Hypothesis: There is at least one significant difference between the means\n",
    "#level of significance: 0.05\n",
    "\n",
    "stats.f_oneway(type1, type2, type3, type5, type6, type7)"
   ]
  },
  {
   "cell_type": "raw",
   "id": "c077fb5a",
   "metadata": {},
   "source": [
    "pvalue = 0.021686 > 0.05\n",
    "Conclusion: \n",
    "    Reject Null Hypothesis\n",
    "    'Fe' is significantly explaining the variance across 'Type's\n",
    "    'Fe' cannot be dropped "
   ]
  },
  {
   "cell_type": "code",
   "execution_count": 19,
   "id": "2685d7a1",
   "metadata": {},
   "outputs": [],
   "source": [
    "#Dropping 'RI': Concluced from ANOVA tests done above\n",
    "glass.drop(['RI'], axis = 1, inplace = True)"
   ]
  },
  {
   "cell_type": "code",
   "execution_count": 20,
   "id": "3f018019",
   "metadata": {},
   "outputs": [
    {
     "name": "stdout",
     "output_type": "stream",
     "text": [
      "<class 'pandas.core.frame.DataFrame'>\n",
      "RangeIndex: 213 entries, 0 to 212\n",
      "Data columns (total 9 columns):\n",
      " #   Column  Non-Null Count  Dtype  \n",
      "---  ------  --------------  -----  \n",
      " 0   Na      213 non-null    float64\n",
      " 1   Mg      213 non-null    float64\n",
      " 2   Al      213 non-null    float64\n",
      " 3   Si      213 non-null    float64\n",
      " 4   K       213 non-null    float64\n",
      " 5   Ca      213 non-null    float64\n",
      " 6   Ba      213 non-null    float64\n",
      " 7   Fe      213 non-null    float64\n",
      " 8   Type    213 non-null    int64  \n",
      "dtypes: float64(8), int64(1)\n",
      "memory usage: 15.1 KB\n"
     ]
    }
   ],
   "source": [
    "glass.info()"
   ]
  },
  {
   "cell_type": "markdown",
   "id": "c9969ea1",
   "metadata": {},
   "source": [
    "###### Creating Synthetic Data through SMOTE:"
   ]
  },
  {
   "cell_type": "code",
   "execution_count": 21,
   "id": "53dad876",
   "metadata": {},
   "outputs": [],
   "source": [
    "#Separating X(independent) and y(target) variables\n",
    "X = glass.iloc[:,:8]\n",
    "y = glass.iloc[:,8]"
   ]
  },
  {
   "cell_type": "code",
   "execution_count": 22,
   "id": "8697abb4",
   "metadata": {},
   "outputs": [],
   "source": [
    "#Stratified Splitting in train_test_split\n",
    "X_train, X_test, y_train, y_test = train_test_split(X, y, test_size = 0.3, random_state = 1, stratify = y)"
   ]
  },
  {
   "cell_type": "code",
   "execution_count": 23,
   "id": "0ff39fe9",
   "metadata": {},
   "outputs": [
    {
     "name": "stdout",
     "output_type": "stream",
     "text": [
      "(149, 8) (64, 8) (149,) (64,)\n"
     ]
    }
   ],
   "source": [
    "#Dimensions of train_test_split\n",
    "print(X_train.shape, X_test.shape, y_train.shape, y_test.shape)"
   ]
  },
  {
   "cell_type": "code",
   "execution_count": 24,
   "id": "1fb67189",
   "metadata": {},
   "outputs": [],
   "source": [
    "#Peforming SMOTE on train data alone to avoid data leakage\n",
    "\n",
    "#Increasing the proportion of Type - 7, 3, 5, 6 through SMOTE\n",
    "#SMOTE - Synthetic Minority Oversampling Technique\n",
    "\n",
    "smote_class = SMOTE(sampling_strategy = 'not majority' , random_state =  1)\n",
    "\n",
    "#X1, y1 are resampled classes\n",
    "X1_train, y1_train = smote_class.fit_resample(X_train, y_train)"
   ]
  },
  {
   "cell_type": "code",
   "execution_count": 25,
   "id": "4b9f4065",
   "metadata": {},
   "outputs": [
    {
     "name": "stdout",
     "output_type": "stream",
     "text": [
      "(318, 8) (318,)\n"
     ]
    }
   ],
   "source": [
    "print(X1_train.shape, y1_train.shape)\n",
    "#Increase in train records from 149 to 318"
   ]
  },
  {
   "cell_type": "code",
   "execution_count": 26,
   "id": "04b46b54",
   "metadata": {},
   "outputs": [
    {
     "data": {
      "text/plain": [
       "Type\n",
       "7    53\n",
       "2    53\n",
       "1    53\n",
       "5    53\n",
       "6    53\n",
       "3    53\n",
       "Name: count, dtype: int64"
      ]
     },
     "execution_count": 26,
     "metadata": {},
     "output_type": "execute_result"
    }
   ],
   "source": [
    "#Equal counts of each class through SMOTE resampling\n",
    "y1_train.value_counts()"
   ]
  },
  {
   "cell_type": "markdown",
   "id": "de083892",
   "metadata": {},
   "source": [
    "##### Exploratory Analysis of resampled train data:"
   ]
  },
  {
   "cell_type": "code",
   "execution_count": 27,
   "id": "6cee1c1b",
   "metadata": {},
   "outputs": [
    {
     "data": {
      "image/png": "[encoded data removed]",
      "text/plain": [
       "<Figure size 1800x576 with 8 Axes>"
      ]
     },
     "metadata": {
      "needs_background": "light"
     },
     "output_type": "display_data"
    }
   ],
   "source": [
    "#Box plot to identify outliers\n",
    "X1_train.plot( kind ='box', subplots = True, sharey = False, figsize = (25,8))\n",
    "plt.show()"
   ]
  },
  {
   "cell_type": "code",
   "execution_count": 28,
   "id": "3c18f5a7",
   "metadata": {},
   "outputs": [
    {
     "data": {
      "image/png": "[encoded data removed]",
      "text/plain": [
       "<Figure size 1440x720 with 8 Axes>"
      ]
     },
     "metadata": {
      "needs_background": "light"
     },
     "output_type": "display_data"
    }
   ],
   "source": [
    "#Distribution plot of numerical features\n",
    "cols = list(X1_train.columns)\n",
    "\n",
    "\n",
    "fig1, ax1 = plt.subplots(nrows = 2,  ncols = 4, figsize = (20, 10))\n",
    "for i in range(len(cols)):\n",
    "    plt.subplot(2, 4, i+1)\n",
    "    plt.hist(X1_train[cols[i]])\n",
    "    plt.title(cols[i])"
   ]
  },
  {
   "cell_type": "raw",
   "id": "7a583e63",
   "metadata": {},
   "source": [
    "Analysis:\n",
    "1. 'Mg' has no outliers\n",
    "2. 'Na', 'Al' , 'Si', 'Ca' have outliers on both sides\n",
    "3. 'K', 'Ba', 'Fe' are right skewed - have outliers on right side of the distribution\n",
    "\n",
    "Plan(Feature Transformation):\n",
    "1. Treating oultliers as per respective distributions\n",
    "2. Normalizing the data to eliminate feature scaling issues"
   ]
  },
  {
   "cell_type": "code",
   "execution_count": 29,
   "id": "426ab311",
   "metadata": {},
   "outputs": [],
   "source": [
    "#Winsorization of X1_train\n",
    "\n",
    "col_trnsf = ColumnTransformer([('winsor1', Winsorizer(capping_method='iqr', tail = 'both', fold = 1.5), ['Na', 'Al' , 'Si', 'Ca']),\n",
    "                               ('winsor2', Winsorizer(capping_method='quantiles', tail = 'right', fold = 0.1), ['K', 'Ba', 'Fe'])\n",
    "                              ], remainder = 'passthrough', verbose_feature_names_out = False)"
   ]
  },
  {
   "cell_type": "code",
   "execution_count": 30,
   "id": "51a2afd0",
   "metadata": {},
   "outputs": [],
   "source": [
    "X1_train_winsored = pd.DataFrame(col_trnsf.fit_transform(X1_train), columns = col_trnsf.get_feature_names_out())"
   ]
  },
  {
   "cell_type": "code",
   "execution_count": 31,
   "id": "c33af011",
   "metadata": {},
   "outputs": [
    {
     "data": {
      "image/png": "[encoded data removed]",
      "text/plain": [
       "<Figure size 1800x576 with 8 Axes>"
      ]
     },
     "metadata": {
      "needs_background": "light"
     },
     "output_type": "display_data"
    }
   ],
   "source": [
    "#Plotting winsored train data\n",
    "X1_train_winsored.plot( kind ='box', subplots = True, sharey = False, figsize = (25,8))\n",
    "plt.show()"
   ]
  },
  {
   "cell_type": "code",
   "execution_count": 32,
   "id": "9a8b616f",
   "metadata": {},
   "outputs": [],
   "source": [
    "#Normalization\n",
    "normal_scaler = MinMaxScaler()\n",
    "normal_scaler.fit(X1_train_winsored)\n",
    "\n",
    "X1_train_scaled = pd.DataFrame(normal_scaler.transform(X1_train_winsored), columns = normal_scaler.get_feature_names_out())"
   ]
  },
  {
   "cell_type": "code",
   "execution_count": 33,
   "id": "284eae1d",
   "metadata": {},
   "outputs": [
    {
     "data": {
      "text/html": [
       "<div>\n",
       "<style scoped>\n",
       "    .dataframe tbody tr th:only-of-type {\n",
       "        vertical-align: middle;\n",
       "    }\n",
       "\n",
       "    .dataframe tbody tr th {\n",
       "        vertical-align: top;\n",
       "    }\n",
       "\n",
       "    .dataframe thead th {\n",
       "        text-align: right;\n",
       "    }\n",
       "</style>\n",
       "<table border=\"1\" class=\"dataframe\">\n",
       "  <thead>\n",
       "    <tr style=\"text-align: right;\">\n",
       "      <th></th>\n",
       "      <th>Na</th>\n",
       "      <th>Al</th>\n",
       "      <th>Si</th>\n",
       "      <th>Ca</th>\n",
       "      <th>K</th>\n",
       "      <th>Ba</th>\n",
       "      <th>Fe</th>\n",
       "      <th>Mg</th>\n",
       "    </tr>\n",
       "  </thead>\n",
       "  <tbody>\n",
       "    <tr>\n",
       "      <th>0</th>\n",
       "      <td>0.143056</td>\n",
       "      <td>0.351317</td>\n",
       "      <td>1.000000</td>\n",
       "      <td>0.503454</td>\n",
       "      <td>1.000000</td>\n",
       "      <td>0.000000</td>\n",
       "      <td>0.000000</td>\n",
       "      <td>0.000000</td>\n",
       "    </tr>\n",
       "    <tr>\n",
       "      <th>1</th>\n",
       "      <td>0.000000</td>\n",
       "      <td>0.170680</td>\n",
       "      <td>0.659832</td>\n",
       "      <td>1.000000</td>\n",
       "      <td>0.000000</td>\n",
       "      <td>0.000000</td>\n",
       "      <td>0.000000</td>\n",
       "      <td>0.000000</td>\n",
       "    </tr>\n",
       "    <tr>\n",
       "      <th>2</th>\n",
       "      <td>0.306939</td>\n",
       "      <td>0.355618</td>\n",
       "      <td>0.656955</td>\n",
       "      <td>0.442331</td>\n",
       "      <td>0.639684</td>\n",
       "      <td>0.000000</td>\n",
       "      <td>0.000000</td>\n",
       "      <td>0.761693</td>\n",
       "    </tr>\n",
       "    <tr>\n",
       "      <th>3</th>\n",
       "      <td>0.373785</td>\n",
       "      <td>1.000000</td>\n",
       "      <td>0.000000</td>\n",
       "      <td>0.088242</td>\n",
       "      <td>1.000000</td>\n",
       "      <td>0.000000</td>\n",
       "      <td>0.000000</td>\n",
       "      <td>0.000000</td>\n",
       "    </tr>\n",
       "    <tr>\n",
       "      <th>4</th>\n",
       "      <td>0.669205</td>\n",
       "      <td>0.622273</td>\n",
       "      <td>0.559134</td>\n",
       "      <td>0.000000</td>\n",
       "      <td>1.000000</td>\n",
       "      <td>1.000000</td>\n",
       "      <td>0.000000</td>\n",
       "      <td>0.000000</td>\n",
       "    </tr>\n",
       "    <tr>\n",
       "      <th>...</th>\n",
       "      <td>...</td>\n",
       "      <td>...</td>\n",
       "      <td>...</td>\n",
       "      <td>...</td>\n",
       "      <td>...</td>\n",
       "      <td>...</td>\n",
       "      <td>...</td>\n",
       "      <td>...</td>\n",
       "    </tr>\n",
       "    <tr>\n",
       "      <th>313</th>\n",
       "      <td>0.780426</td>\n",
       "      <td>0.695748</td>\n",
       "      <td>0.615713</td>\n",
       "      <td>0.394038</td>\n",
       "      <td>0.000000</td>\n",
       "      <td>1.000000</td>\n",
       "      <td>0.039352</td>\n",
       "      <td>0.000000</td>\n",
       "    </tr>\n",
       "    <tr>\n",
       "      <th>314</th>\n",
       "      <td>0.737716</td>\n",
       "      <td>0.688952</td>\n",
       "      <td>0.623885</td>\n",
       "      <td>0.316515</td>\n",
       "      <td>0.158646</td>\n",
       "      <td>1.000000</td>\n",
       "      <td>0.000000</td>\n",
       "      <td>0.059253</td>\n",
       "    </tr>\n",
       "    <tr>\n",
       "      <th>315</th>\n",
       "      <td>0.777184</td>\n",
       "      <td>0.641852</td>\n",
       "      <td>0.624620</td>\n",
       "      <td>0.407130</td>\n",
       "      <td>0.136901</td>\n",
       "      <td>1.000000</td>\n",
       "      <td>0.000000</td>\n",
       "      <td>0.000000</td>\n",
       "    </tr>\n",
       "    <tr>\n",
       "      <th>316</th>\n",
       "      <td>0.667271</td>\n",
       "      <td>0.647986</td>\n",
       "      <td>0.607297</td>\n",
       "      <td>0.109086</td>\n",
       "      <td>1.000000</td>\n",
       "      <td>1.000000</td>\n",
       "      <td>0.000000</td>\n",
       "      <td>0.000000</td>\n",
       "    </tr>\n",
       "    <tr>\n",
       "      <th>317</th>\n",
       "      <td>0.615296</td>\n",
       "      <td>1.000000</td>\n",
       "      <td>0.580475</td>\n",
       "      <td>0.546510</td>\n",
       "      <td>0.086737</td>\n",
       "      <td>0.715716</td>\n",
       "      <td>0.122238</td>\n",
       "      <td>0.000000</td>\n",
       "    </tr>\n",
       "  </tbody>\n",
       "</table>\n",
       "<p>318 rows × 8 columns</p>\n",
       "</div>"
      ],
      "text/plain": [
       "           Na        Al        Si        Ca         K        Ba        Fe  \\\n",
       "0    0.143056  0.351317  1.000000  0.503454  1.000000  0.000000  0.000000   \n",
       "1    0.000000  0.170680  0.659832  1.000000  0.000000  0.000000  0.000000   \n",
       "2    0.306939  0.355618  0.656955  0.442331  0.639684  0.000000  0.000000   \n",
       "3    0.373785  1.000000  0.000000  0.088242  1.000000  0.000000  0.000000   \n",
       "4    0.669205  0.622273  0.559134  0.000000  1.000000  1.000000  0.000000   \n",
       "..        ...       ...       ...       ...       ...       ...       ...   \n",
       "313  0.780426  0.695748  0.615713  0.394038  0.000000  1.000000  0.039352   \n",
       "314  0.737716  0.688952  0.623885  0.316515  0.158646  1.000000  0.000000   \n",
       "315  0.777184  0.641852  0.624620  0.407130  0.136901  1.000000  0.000000   \n",
       "316  0.667271  0.647986  0.607297  0.109086  1.000000  1.000000  0.000000   \n",
       "317  0.615296  1.000000  0.580475  0.546510  0.086737  0.715716  0.122238   \n",
       "\n",
       "           Mg  \n",
       "0    0.000000  \n",
       "1    0.000000  \n",
       "2    0.761693  \n",
       "3    0.000000  \n",
       "4    0.000000  \n",
       "..        ...  \n",
       "313  0.000000  \n",
       "314  0.059253  \n",
       "315  0.000000  \n",
       "316  0.000000  \n",
       "317  0.000000  \n",
       "\n",
       "[318 rows x 8 columns]"
      ]
     },
     "execution_count": 33,
     "metadata": {},
     "output_type": "execute_result"
    }
   ],
   "source": [
    "X1_train_scaled"
   ]
  },
  {
   "cell_type": "markdown",
   "id": "61e64526",
   "metadata": {},
   "source": [
    "<h4>Model Building: KNN Classifier</h4>"
   ]
  },
  {
   "cell_type": "markdown",
   "id": "985576a5",
   "metadata": {},
   "source": [
    "##### Model #1: Vanilla Model"
   ]
  },
  {
   "cell_type": "code",
   "execution_count": 34,
   "id": "1de32f44",
   "metadata": {},
   "outputs": [
    {
     "data": {
      "text/html": [
       "<style>#sk-container-id-1 {color: black;}#sk-container-id-1 pre{padding: 0;}#sk-container-id-1 div.sk-toggleable {background-color: white;}#sk-container-id-1 label.sk-toggleable__label {cursor: pointer;display: block;width: 100%;margin-bottom: 0;padding: 0.3em;box-sizing: border-box;text-align: center;}#sk-container-id-1 label.sk-toggleable__label-arrow:before {content: \"▸\";float: left;margin-right: 0.25em;color: #696969;}#sk-container-id-1 label.sk-toggleable__label-arrow:hover:before {color: black;}#sk-container-id-1 div.sk-estimator:hover label.sk-toggleable__label-arrow:before {color: black;}#sk-container-id-1 div.sk-toggleable__content {max-height: 0;max-width: 0;overflow: hidden;text-align: left;background-color: #f0f8ff;}#sk-container-id-1 div.sk-toggleable__content pre {margin: 0.2em;color: black;border-radius: 0.25em;background-color: #f0f8ff;}#sk-container-id-1 input.sk-toggleable__control:checked~div.sk-toggleable__content {max-height: 200px;max-width: 100%;overflow: auto;}#sk-container-id-1 input.sk-toggleable__control:checked~label.sk-toggleable__label-arrow:before {content: \"▾\";}#sk-container-id-1 div.sk-estimator input.sk-toggleable__control:checked~label.sk-toggleable__label {background-color: #d4ebff;}#sk-container-id-1 div.sk-label input.sk-toggleable__control:checked~label.sk-toggleable__label {background-color: #d4ebff;}#sk-container-id-1 input.sk-hidden--visually {border: 0;clip: rect(1px 1px 1px 1px);clip: rect(1px, 1px, 1px, 1px);height: 1px;margin: -1px;overflow: hidden;padding: 0;position: absolute;width: 1px;}#sk-container-id-1 div.sk-estimator {font-family: monospace;background-color: #f0f8ff;border: 1px dotted black;border-radius: 0.25em;box-sizing: border-box;margin-bottom: 0.5em;}#sk-container-id-1 div.sk-estimator:hover {background-color: #d4ebff;}#sk-container-id-1 div.sk-parallel-item::after {content: \"\";width: 100%;border-bottom: 1px solid gray;flex-grow: 1;}#sk-container-id-1 div.sk-label:hover label.sk-toggleable__label {background-color: #d4ebff;}#sk-container-id-1 div.sk-serial::before {content: \"\";position: absolute;border-left: 1px solid gray;box-sizing: border-box;top: 0;bottom: 0;left: 50%;z-index: 0;}#sk-container-id-1 div.sk-serial {display: flex;flex-direction: column;align-items: center;background-color: white;padding-right: 0.2em;padding-left: 0.2em;position: relative;}#sk-container-id-1 div.sk-item {position: relative;z-index: 1;}#sk-container-id-1 div.sk-parallel {display: flex;align-items: stretch;justify-content: center;background-color: white;position: relative;}#sk-container-id-1 div.sk-item::before, #sk-container-id-1 div.sk-parallel-item::before {content: \"\";position: absolute;border-left: 1px solid gray;box-sizing: border-box;top: 0;bottom: 0;left: 50%;z-index: -1;}#sk-container-id-1 div.sk-parallel-item {display: flex;flex-direction: column;z-index: 1;position: relative;background-color: white;}#sk-container-id-1 div.sk-parallel-item:first-child::after {align-self: flex-end;width: 50%;}#sk-container-id-1 div.sk-parallel-item:last-child::after {align-self: flex-start;width: 50%;}#sk-container-id-1 div.sk-parallel-item:only-child::after {width: 0;}#sk-container-id-1 div.sk-dashed-wrapped {border: 1px dashed gray;margin: 0 0.4em 0.5em 0.4em;box-sizing: border-box;padding-bottom: 0.4em;background-color: white;}#sk-container-id-1 div.sk-label label {font-family: monospace;font-weight: bold;display: inline-block;line-height: 1.2em;}#sk-container-id-1 div.sk-label-container {text-align: center;}#sk-container-id-1 div.sk-container {/* jupyter's `normalize.less` sets `[hidden] { display: none; }` but bootstrap.min.css set `[hidden] { display: none !important; }` so we also need the `!important` here to be able to override the default hidden behavior on the sphinx rendered scikit-learn.org. See: https://github.com/scikit-learn/scikit-learn/issues/21755 */display: inline-block !important;position: relative;}#sk-container-id-1 div.sk-text-repr-fallback {display: none;}</style><div id=\"sk-container-id-1\" class=\"sk-top-container\"><div class=\"sk-text-repr-fallback\"><pre>KNeighborsClassifier(n_neighbors=3)</pre><b>In a Jupyter environment, please rerun this cell to show the HTML representation or trust the notebook. <br />On GitHub, the HTML representation is unable to render, please try loading this page with nbviewer.org.</b></div><div class=\"sk-container\" hidden><div class=\"sk-item\"><div class=\"sk-estimator sk-toggleable\"><input class=\"sk-toggleable__control sk-hidden--visually\" id=\"sk-estimator-id-1\" type=\"checkbox\" checked><label for=\"sk-estimator-id-1\" class=\"sk-toggleable__label sk-toggleable__label-arrow\">KNeighborsClassifier</label><div class=\"sk-toggleable__content\"><pre>KNeighborsClassifier(n_neighbors=3)</pre></div></div></div></div></div>"
      ],
      "text/plain": [
       "KNeighborsClassifier(n_neighbors=3)"
      ]
     },
     "execution_count": 34,
     "metadata": {},
     "output_type": "execute_result"
    }
   ],
   "source": [
    "model1 = KNeighborsClassifier(n_neighbors = 3, weights = 'uniform', algorithm = 'auto') \n",
    "model1.fit(X1_train_scaled, y1_train)"
   ]
  },
  {
   "cell_type": "code",
   "execution_count": 35,
   "id": "0ab8433c",
   "metadata": {},
   "outputs": [
    {
     "data": {
      "text/plain": [
       "0.9119496855345912"
      ]
     },
     "execution_count": 35,
     "metadata": {},
     "output_type": "execute_result"
    }
   ],
   "source": [
    "#Train Results\n",
    "pred1_train = model1.predict(X1_train_scaled)\n",
    "accuracy_score(y1_train, pred1_train)"
   ]
  },
  {
   "cell_type": "code",
   "execution_count": 36,
   "id": "71379156",
   "metadata": {},
   "outputs": [
    {
     "data": {
      "text/plain": [
       "0.65625"
      ]
     },
     "execution_count": 36,
     "metadata": {},
     "output_type": "execute_result"
    }
   ],
   "source": [
    "#Data preparation of test data based on feature engineering on train data\n",
    "X_test1 = pd.DataFrame(col_trnsf.transform(X_test), columns = col_trnsf.get_feature_names_out())\n",
    "X_test_scaled = pd.DataFrame(normal_scaler.transform(X_test1), columns = normal_scaler.get_feature_names_out())\n",
    "\n",
    "\n",
    "#Test Results:\n",
    "pred1_test = model1.predict(X_test_scaled)\n",
    "accuracy_score(y_test, pred1_test)"
   ]
  },
  {
   "cell_type": "code",
   "execution_count": 37,
   "id": "d2fc15c3",
   "metadata": {},
   "outputs": [
    {
     "name": "stdout",
     "output_type": "stream",
     "text": [
      "{'algorithm': 'auto', 'leaf_size': 30, 'metric': 'minkowski', 'metric_params': None, 'n_jobs': None, 'n_neighbors': 3, 'p': 2, 'weights': 'uniform'}\n"
     ]
    }
   ],
   "source": [
    "print(model1.get_params())"
   ]
  },
  {
   "cell_type": "raw",
   "id": "d3fd3bcc",
   "metadata": {},
   "source": [
    "Model1 Result Summary:\n",
    "    \n",
    "    - Model1 Parameters: {'algorithm': 'auto', 'leaf_size': 30, 'metric': 'minkowski', 'metric_params': None, 'n_jobs': None,                              'n_neighbors': 3, 'p': 2, 'weights': 'uniform'}\n",
    "    - Model1 train acc_: 0.9119496\n",
    "    - Model1 test  acc_: 0.65625"
   ]
  },
  {
   "cell_type": "markdown",
   "id": "02d27c76",
   "metadata": {},
   "source": [
    "##### Model #2: with 'weights': 'distance'"
   ]
  },
  {
   "cell_type": "code",
   "execution_count": 38,
   "id": "838be957",
   "metadata": {},
   "outputs": [
    {
     "data": {
      "text/html": [
       "<style>#sk-container-id-2 {color: black;}#sk-container-id-2 pre{padding: 0;}#sk-container-id-2 div.sk-toggleable {background-color: white;}#sk-container-id-2 label.sk-toggleable__label {cursor: pointer;display: block;width: 100%;margin-bottom: 0;padding: 0.3em;box-sizing: border-box;text-align: center;}#sk-container-id-2 label.sk-toggleable__label-arrow:before {content: \"▸\";float: left;margin-right: 0.25em;color: #696969;}#sk-container-id-2 label.sk-toggleable__label-arrow:hover:before {color: black;}#sk-container-id-2 div.sk-estimator:hover label.sk-toggleable__label-arrow:before {color: black;}#sk-container-id-2 div.sk-toggleable__content {max-height: 0;max-width: 0;overflow: hidden;text-align: left;background-color: #f0f8ff;}#sk-container-id-2 div.sk-toggleable__content pre {margin: 0.2em;color: black;border-radius: 0.25em;background-color: #f0f8ff;}#sk-container-id-2 input.sk-toggleable__control:checked~div.sk-toggleable__content {max-height: 200px;max-width: 100%;overflow: auto;}#sk-container-id-2 input.sk-toggleable__control:checked~label.sk-toggleable__label-arrow:before {content: \"▾\";}#sk-container-id-2 div.sk-estimator input.sk-toggleable__control:checked~label.sk-toggleable__label {background-color: #d4ebff;}#sk-container-id-2 div.sk-label input.sk-toggleable__control:checked~label.sk-toggleable__label {background-color: #d4ebff;}#sk-container-id-2 input.sk-hidden--visually {border: 0;clip: rect(1px 1px 1px 1px);clip: rect(1px, 1px, 1px, 1px);height: 1px;margin: -1px;overflow: hidden;padding: 0;position: absolute;width: 1px;}#sk-container-id-2 div.sk-estimator {font-family: monospace;background-color: #f0f8ff;border: 1px dotted black;border-radius: 0.25em;box-sizing: border-box;margin-bottom: 0.5em;}#sk-container-id-2 div.sk-estimator:hover {background-color: #d4ebff;}#sk-container-id-2 div.sk-parallel-item::after {content: \"\";width: 100%;border-bottom: 1px solid gray;flex-grow: 1;}#sk-container-id-2 div.sk-label:hover label.sk-toggleable__label {background-color: #d4ebff;}#sk-container-id-2 div.sk-serial::before {content: \"\";position: absolute;border-left: 1px solid gray;box-sizing: border-box;top: 0;bottom: 0;left: 50%;z-index: 0;}#sk-container-id-2 div.sk-serial {display: flex;flex-direction: column;align-items: center;background-color: white;padding-right: 0.2em;padding-left: 0.2em;position: relative;}#sk-container-id-2 div.sk-item {position: relative;z-index: 1;}#sk-container-id-2 div.sk-parallel {display: flex;align-items: stretch;justify-content: center;background-color: white;position: relative;}#sk-container-id-2 div.sk-item::before, #sk-container-id-2 div.sk-parallel-item::before {content: \"\";position: absolute;border-left: 1px solid gray;box-sizing: border-box;top: 0;bottom: 0;left: 50%;z-index: -1;}#sk-container-id-2 div.sk-parallel-item {display: flex;flex-direction: column;z-index: 1;position: relative;background-color: white;}#sk-container-id-2 div.sk-parallel-item:first-child::after {align-self: flex-end;width: 50%;}#sk-container-id-2 div.sk-parallel-item:last-child::after {align-self: flex-start;width: 50%;}#sk-container-id-2 div.sk-parallel-item:only-child::after {width: 0;}#sk-container-id-2 div.sk-dashed-wrapped {border: 1px dashed gray;margin: 0 0.4em 0.5em 0.4em;box-sizing: border-box;padding-bottom: 0.4em;background-color: white;}#sk-container-id-2 div.sk-label label {font-family: monospace;font-weight: bold;display: inline-block;line-height: 1.2em;}#sk-container-id-2 div.sk-label-container {text-align: center;}#sk-container-id-2 div.sk-container {/* jupyter's `normalize.less` sets `[hidden] { display: none; }` but bootstrap.min.css set `[hidden] { display: none !important; }` so we also need the `!important` here to be able to override the default hidden behavior on the sphinx rendered scikit-learn.org. See: https://github.com/scikit-learn/scikit-learn/issues/21755 */display: inline-block !important;position: relative;}#sk-container-id-2 div.sk-text-repr-fallback {display: none;}</style><div id=\"sk-container-id-2\" class=\"sk-top-container\"><div class=\"sk-text-repr-fallback\"><pre>KNeighborsClassifier(n_neighbors=3, weights=&#x27;distance&#x27;)</pre><b>In a Jupyter environment, please rerun this cell to show the HTML representation or trust the notebook. <br />On GitHub, the HTML representation is unable to render, please try loading this page with nbviewer.org.</b></div><div class=\"sk-container\" hidden><div class=\"sk-item\"><div class=\"sk-estimator sk-toggleable\"><input class=\"sk-toggleable__control sk-hidden--visually\" id=\"sk-estimator-id-2\" type=\"checkbox\" checked><label for=\"sk-estimator-id-2\" class=\"sk-toggleable__label sk-toggleable__label-arrow\">KNeighborsClassifier</label><div class=\"sk-toggleable__content\"><pre>KNeighborsClassifier(n_neighbors=3, weights=&#x27;distance&#x27;)</pre></div></div></div></div></div>"
      ],
      "text/plain": [
       "KNeighborsClassifier(n_neighbors=3, weights='distance')"
      ]
     },
     "execution_count": 38,
     "metadata": {},
     "output_type": "execute_result"
    }
   ],
   "source": [
    "model2 = KNeighborsClassifier(n_neighbors = 3, weights = 'distance', algorithm = 'auto') \n",
    "model2.fit(X1_train_scaled, y1_train)"
   ]
  },
  {
   "cell_type": "code",
   "execution_count": 39,
   "id": "c5cec8cb",
   "metadata": {},
   "outputs": [
    {
     "data": {
      "text/plain": [
       "1.0"
      ]
     },
     "execution_count": 39,
     "metadata": {},
     "output_type": "execute_result"
    }
   ],
   "source": [
    "#Train Results\n",
    "pred2_train = model2.predict(X1_train_scaled)\n",
    "accuracy_score(y1_train, pred2_train)"
   ]
  },
  {
   "cell_type": "code",
   "execution_count": 40,
   "id": "66160dda",
   "metadata": {},
   "outputs": [
    {
     "data": {
      "text/plain": [
       "0.671875"
      ]
     },
     "execution_count": 40,
     "metadata": {},
     "output_type": "execute_result"
    }
   ],
   "source": [
    "#Test Results:\n",
    "pred2_test = model2.predict(X_test_scaled)\n",
    "accuracy_score(y_test, pred2_test)"
   ]
  },
  {
   "cell_type": "raw",
   "id": "31e1f22b",
   "metadata": {},
   "source": [
    "Model2 Result Summary:\n",
    "    \n",
    "    - Model2 Parameters: {'algorithm': 'auto', 'leaf_size': 30, 'metric': 'minkowski', 'metric_params': None, 'n_jobs': None,                              'n_neighbors': 3, 'p': 2, 'weights': 'distance'}\n",
    "    - Model2 train acc_: 1.0\n",
    "    - Model2 test  acc_: 0.671875\n",
    "    - Slight increase in test accuracy compared to Mode11"
   ]
  },
  {
   "cell_type": "markdown",
   "id": "85800924",
   "metadata": {},
   "source": [
    "##### Model3: With GridSearchCV to tes hyperparameters"
   ]
  },
  {
   "cell_type": "code",
   "execution_count": 102,
   "id": "e56f9254",
   "metadata": {},
   "outputs": [],
   "source": [
    "KNN_class = KNeighborsClassifier()\n",
    "params = {'n_neighbors': np.arange(3,10), 'weights' : ['uniform', 'distance']}"
   ]
  },
  {
   "cell_type": "code",
   "execution_count": 103,
   "id": "f224052f",
   "metadata": {},
   "outputs": [],
   "source": [
    "#Crossvalidation of 5\n",
    "KNN_gs = GridSearchCV(KNN_class, params, cv = 3, return_train_score = False)"
   ]
  },
  {
   "cell_type": "code",
   "execution_count": 104,
   "id": "c8cf7940",
   "metadata": {},
   "outputs": [
    {
     "data": {
      "text/html": [
       "<style>#sk-container-id-7 {color: black;}#sk-container-id-7 pre{padding: 0;}#sk-container-id-7 div.sk-toggleable {background-color: white;}#sk-container-id-7 label.sk-toggleable__label {cursor: pointer;display: block;width: 100%;margin-bottom: 0;padding: 0.3em;box-sizing: border-box;text-align: center;}#sk-container-id-7 label.sk-toggleable__label-arrow:before {content: \"▸\";float: left;margin-right: 0.25em;color: #696969;}#sk-container-id-7 label.sk-toggleable__label-arrow:hover:before {color: black;}#sk-container-id-7 div.sk-estimator:hover label.sk-toggleable__label-arrow:before {color: black;}#sk-container-id-7 div.sk-toggleable__content {max-height: 0;max-width: 0;overflow: hidden;text-align: left;background-color: #f0f8ff;}#sk-container-id-7 div.sk-toggleable__content pre {margin: 0.2em;color: black;border-radius: 0.25em;background-color: #f0f8ff;}#sk-container-id-7 input.sk-toggleable__control:checked~div.sk-toggleable__content {max-height: 200px;max-width: 100%;overflow: auto;}#sk-container-id-7 input.sk-toggleable__control:checked~label.sk-toggleable__label-arrow:before {content: \"▾\";}#sk-container-id-7 div.sk-estimator input.sk-toggleable__control:checked~label.sk-toggleable__label {background-color: #d4ebff;}#sk-container-id-7 div.sk-label input.sk-toggleable__control:checked~label.sk-toggleable__label {background-color: #d4ebff;}#sk-container-id-7 input.sk-hidden--visually {border: 0;clip: rect(1px 1px 1px 1px);clip: rect(1px, 1px, 1px, 1px);height: 1px;margin: -1px;overflow: hidden;padding: 0;position: absolute;width: 1px;}#sk-container-id-7 div.sk-estimator {font-family: monospace;background-color: #f0f8ff;border: 1px dotted black;border-radius: 0.25em;box-sizing: border-box;margin-bottom: 0.5em;}#sk-container-id-7 div.sk-estimator:hover {background-color: #d4ebff;}#sk-container-id-7 div.sk-parallel-item::after {content: \"\";width: 100%;border-bottom: 1px solid gray;flex-grow: 1;}#sk-container-id-7 div.sk-label:hover label.sk-toggleable__label {background-color: #d4ebff;}#sk-container-id-7 div.sk-serial::before {content: \"\";position: absolute;border-left: 1px solid gray;box-sizing: border-box;top: 0;bottom: 0;left: 50%;z-index: 0;}#sk-container-id-7 div.sk-serial {display: flex;flex-direction: column;align-items: center;background-color: white;padding-right: 0.2em;padding-left: 0.2em;position: relative;}#sk-container-id-7 div.sk-item {position: relative;z-index: 1;}#sk-container-id-7 div.sk-parallel {display: flex;align-items: stretch;justify-content: center;background-color: white;position: relative;}#sk-container-id-7 div.sk-item::before, #sk-container-id-7 div.sk-parallel-item::before {content: \"\";position: absolute;border-left: 1px solid gray;box-sizing: border-box;top: 0;bottom: 0;left: 50%;z-index: -1;}#sk-container-id-7 div.sk-parallel-item {display: flex;flex-direction: column;z-index: 1;position: relative;background-color: white;}#sk-container-id-7 div.sk-parallel-item:first-child::after {align-self: flex-end;width: 50%;}#sk-container-id-7 div.sk-parallel-item:last-child::after {align-self: flex-start;width: 50%;}#sk-container-id-7 div.sk-parallel-item:only-child::after {width: 0;}#sk-container-id-7 div.sk-dashed-wrapped {border: 1px dashed gray;margin: 0 0.4em 0.5em 0.4em;box-sizing: border-box;padding-bottom: 0.4em;background-color: white;}#sk-container-id-7 div.sk-label label {font-family: monospace;font-weight: bold;display: inline-block;line-height: 1.2em;}#sk-container-id-7 div.sk-label-container {text-align: center;}#sk-container-id-7 div.sk-container {/* jupyter's `normalize.less` sets `[hidden] { display: none; }` but bootstrap.min.css set `[hidden] { display: none !important; }` so we also need the `!important` here to be able to override the default hidden behavior on the sphinx rendered scikit-learn.org. See: https://github.com/scikit-learn/scikit-learn/issues/21755 */display: inline-block !important;position: relative;}#sk-container-id-7 div.sk-text-repr-fallback {display: none;}</style><div id=\"sk-container-id-7\" class=\"sk-top-container\"><div class=\"sk-text-repr-fallback\"><pre>GridSearchCV(cv=3, estimator=KNeighborsClassifier(),\n",
       "             param_grid={&#x27;n_neighbors&#x27;: array([3, 4, 5, 6, 7, 8, 9]),\n",
       "                         &#x27;weights&#x27;: [&#x27;uniform&#x27;, &#x27;distance&#x27;]})</pre><b>In a Jupyter environment, please rerun this cell to show the HTML representation or trust the notebook. <br />On GitHub, the HTML representation is unable to render, please try loading this page with nbviewer.org.</b></div><div class=\"sk-container\" hidden><div class=\"sk-item sk-dashed-wrapped\"><div class=\"sk-label-container\"><div class=\"sk-label sk-toggleable\"><input class=\"sk-toggleable__control sk-hidden--visually\" id=\"sk-estimator-id-15\" type=\"checkbox\" ><label for=\"sk-estimator-id-15\" class=\"sk-toggleable__label sk-toggleable__label-arrow\">GridSearchCV</label><div class=\"sk-toggleable__content\"><pre>GridSearchCV(cv=3, estimator=KNeighborsClassifier(),\n",
       "             param_grid={&#x27;n_neighbors&#x27;: array([3, 4, 5, 6, 7, 8, 9]),\n",
       "                         &#x27;weights&#x27;: [&#x27;uniform&#x27;, &#x27;distance&#x27;]})</pre></div></div></div><div class=\"sk-parallel\"><div class=\"sk-parallel-item\"><div class=\"sk-item\"><div class=\"sk-label-container\"><div class=\"sk-label sk-toggleable\"><input class=\"sk-toggleable__control sk-hidden--visually\" id=\"sk-estimator-id-16\" type=\"checkbox\" ><label for=\"sk-estimator-id-16\" class=\"sk-toggleable__label sk-toggleable__label-arrow\">estimator: KNeighborsClassifier</label><div class=\"sk-toggleable__content\"><pre>KNeighborsClassifier()</pre></div></div></div><div class=\"sk-serial\"><div class=\"sk-item\"><div class=\"sk-estimator sk-toggleable\"><input class=\"sk-toggleable__control sk-hidden--visually\" id=\"sk-estimator-id-17\" type=\"checkbox\" ><label for=\"sk-estimator-id-17\" class=\"sk-toggleable__label sk-toggleable__label-arrow\">KNeighborsClassifier</label><div class=\"sk-toggleable__content\"><pre>KNeighborsClassifier()</pre></div></div></div></div></div></div></div></div></div></div>"
      ],
      "text/plain": [
       "GridSearchCV(cv=3, estimator=KNeighborsClassifier(),\n",
       "             param_grid={'n_neighbors': array([3, 4, 5, 6, 7, 8, 9]),\n",
       "                         'weights': ['uniform', 'distance']})"
      ]
     },
     "execution_count": 104,
     "metadata": {},
     "output_type": "execute_result"
    }
   ],
   "source": [
    "KNN_gs.fit(X1_train_scaled, y1_train)"
   ]
  },
  {
   "cell_type": "code",
   "execution_count": 105,
   "id": "66c9a0ca",
   "metadata": {},
   "outputs": [],
   "source": [
    "gscv_results = pd.DataFrame(KNN_gs.cv_results_)"
   ]
  },
  {
   "cell_type": "code",
   "execution_count": 106,
   "id": "fb2736da",
   "metadata": {},
   "outputs": [
    {
     "data": {
      "text/plain": [
       "{'n_neighbors': 4, 'weights': 'distance'}"
      ]
     },
     "execution_count": 106,
     "metadata": {},
     "output_type": "execute_result"
    }
   ],
   "source": [
    "#Best params identified out of \n",
    "KNN_gs.best_params_"
   ]
  },
  {
   "cell_type": "code",
   "execution_count": 120,
   "id": "1ee0ab37",
   "metadata": {},
   "outputs": [
    {
     "data": {
      "text/html": [
       "<div>\n",
       "<style scoped>\n",
       "    .dataframe tbody tr th:only-of-type {\n",
       "        vertical-align: middle;\n",
       "    }\n",
       "\n",
       "    .dataframe tbody tr th {\n",
       "        vertical-align: top;\n",
       "    }\n",
       "\n",
       "    .dataframe thead th {\n",
       "        text-align: right;\n",
       "    }\n",
       "</style>\n",
       "<table border=\"1\" class=\"dataframe\">\n",
       "  <thead>\n",
       "    <tr style=\"text-align: right;\">\n",
       "      <th></th>\n",
       "      <th>param_n_neighbors</th>\n",
       "      <th>param_weights</th>\n",
       "      <th>mean_test_score</th>\n",
       "      <th>rank_test_score</th>\n",
       "    </tr>\n",
       "  </thead>\n",
       "  <tbody>\n",
       "    <tr>\n",
       "      <th>3</th>\n",
       "      <td>4</td>\n",
       "      <td>distance</td>\n",
       "      <td>0.817610</td>\n",
       "      <td>1</td>\n",
       "    </tr>\n",
       "    <tr>\n",
       "      <th>5</th>\n",
       "      <td>5</td>\n",
       "      <td>distance</td>\n",
       "      <td>0.805031</td>\n",
       "      <td>2</td>\n",
       "    </tr>\n",
       "    <tr>\n",
       "      <th>7</th>\n",
       "      <td>6</td>\n",
       "      <td>distance</td>\n",
       "      <td>0.801887</td>\n",
       "      <td>3</td>\n",
       "    </tr>\n",
       "    <tr>\n",
       "      <th>1</th>\n",
       "      <td>3</td>\n",
       "      <td>distance</td>\n",
       "      <td>0.798742</td>\n",
       "      <td>4</td>\n",
       "    </tr>\n",
       "    <tr>\n",
       "      <th>0</th>\n",
       "      <td>3</td>\n",
       "      <td>uniform</td>\n",
       "      <td>0.792453</td>\n",
       "      <td>5</td>\n",
       "    </tr>\n",
       "    <tr>\n",
       "      <th>2</th>\n",
       "      <td>4</td>\n",
       "      <td>uniform</td>\n",
       "      <td>0.789308</td>\n",
       "      <td>6</td>\n",
       "    </tr>\n",
       "    <tr>\n",
       "      <th>9</th>\n",
       "      <td>7</td>\n",
       "      <td>distance</td>\n",
       "      <td>0.783019</td>\n",
       "      <td>7</td>\n",
       "    </tr>\n",
       "    <tr>\n",
       "      <th>11</th>\n",
       "      <td>8</td>\n",
       "      <td>distance</td>\n",
       "      <td>0.767296</td>\n",
       "      <td>8</td>\n",
       "    </tr>\n",
       "    <tr>\n",
       "      <th>4</th>\n",
       "      <td>5</td>\n",
       "      <td>uniform</td>\n",
       "      <td>0.764151</td>\n",
       "      <td>9</td>\n",
       "    </tr>\n",
       "    <tr>\n",
       "      <th>6</th>\n",
       "      <td>6</td>\n",
       "      <td>uniform</td>\n",
       "      <td>0.761006</td>\n",
       "      <td>10</td>\n",
       "    </tr>\n",
       "    <tr>\n",
       "      <th>13</th>\n",
       "      <td>9</td>\n",
       "      <td>distance</td>\n",
       "      <td>0.751572</td>\n",
       "      <td>11</td>\n",
       "    </tr>\n",
       "    <tr>\n",
       "      <th>8</th>\n",
       "      <td>7</td>\n",
       "      <td>uniform</td>\n",
       "      <td>0.742138</td>\n",
       "      <td>12</td>\n",
       "    </tr>\n",
       "    <tr>\n",
       "      <th>10</th>\n",
       "      <td>8</td>\n",
       "      <td>uniform</td>\n",
       "      <td>0.698113</td>\n",
       "      <td>13</td>\n",
       "    </tr>\n",
       "    <tr>\n",
       "      <th>12</th>\n",
       "      <td>9</td>\n",
       "      <td>uniform</td>\n",
       "      <td>0.685535</td>\n",
       "      <td>14</td>\n",
       "    </tr>\n",
       "  </tbody>\n",
       "</table>\n",
       "</div>"
      ],
      "text/plain": [
       "   param_n_neighbors param_weights  mean_test_score  rank_test_score\n",
       "3                  4      distance         0.817610                1\n",
       "5                  5      distance         0.805031                2\n",
       "7                  6      distance         0.801887                3\n",
       "1                  3      distance         0.798742                4\n",
       "0                  3       uniform         0.792453                5\n",
       "2                  4       uniform         0.789308                6\n",
       "9                  7      distance         0.783019                7\n",
       "11                 8      distance         0.767296                8\n",
       "4                  5       uniform         0.764151                9\n",
       "6                  6       uniform         0.761006               10\n",
       "13                 9      distance         0.751572               11\n",
       "8                  7       uniform         0.742138               12\n",
       "10                 8       uniform         0.698113               13\n",
       "12                 9       uniform         0.685535               14"
      ]
     },
     "execution_count": 120,
     "metadata": {},
     "output_type": "execute_result"
    }
   ],
   "source": [
    "#'test' score here corresponds to 'validation' score obtained during cross validation\n",
    "gscv_filtered = gscv_results.loc[:,['param_n_neighbors', 'param_weights', 'mean_test_score', 'rank_test_score']]\n",
    "gscv_filtered.sort_values(by = ['rank_test_score'])"
   ]
  },
  {
   "cell_type": "code",
   "execution_count": 108,
   "id": "b5ee8664",
   "metadata": {},
   "outputs": [],
   "source": [
    "#Fitlering dataframes for plotting\n",
    "uniform = gscv_filtered[(gscv_filtered.param_weights == 'uniform')].iloc[:,[0,2]]\n",
    "distance = gscv_filtered[(gscv_filtered.param_weights == 'distance')].iloc[:,[0,2]]"
   ]
  },
  {
   "cell_type": "code",
   "execution_count": 109,
   "id": "c9809faa",
   "metadata": {},
   "outputs": [
    {
     "data": {
      "image/png": "[encoded data removed]",
      "text/plain": [
       "<Figure size 720x576 with 1 Axes>"
      ]
     },
     "metadata": {
      "needs_background": "light"
     },
     "output_type": "display_data"
    }
   ],
   "source": [
    "#Plotting \n",
    "plt.figure(figsize = (10, 8))\n",
    "plt.plot(uniform.param_n_neighbors.to_numpy(), uniform.mean_test_score.to_numpy())\n",
    "plt.plot(distance.param_n_neighbors.to_numpy(), distance.mean_test_score.to_numpy())\n",
    "plt.legend(['uniform', 'distance'])\n",
    "plt.xlabel('n_neighbors')\n",
    "plt.ylabel('mean_val_score')\n",
    "plt.title('Cross_validation scores for set of KNN Hyperparameters')\n",
    "plt.show()\n"
   ]
  },
  {
   "cell_type": "code",
   "execution_count": 119,
   "id": "d5b08379",
   "metadata": {},
   "outputs": [
    {
     "data": {
      "text/plain": [
       "1.0"
      ]
     },
     "execution_count": 119,
     "metadata": {},
     "output_type": "execute_result"
    }
   ],
   "source": [
    "model3 = KNN_gs.best_estimator_\n",
    "\n",
    "#Train Results\n",
    "model3.score(X1_train_scaled, y1_train)"
   ]
  },
  {
   "cell_type": "code",
   "execution_count": 111,
   "id": "925b7187",
   "metadata": {},
   "outputs": [
    {
     "data": {
      "text/plain": [
       "0.6875"
      ]
     },
     "execution_count": 111,
     "metadata": {},
     "output_type": "execute_result"
    }
   ],
   "source": [
    "#Test Results:\n",
    "pred_test = model3.predict(X_test_scaled)\n",
    "accuracy_score(y_test, pred_test)"
   ]
  },
  {
   "cell_type": "raw",
   "id": "7f0acc5b",
   "metadata": {},
   "source": [
    "Model3 Result Summary:\n",
    "    \n",
    "    - Model3 Parameters: {'algorithm': 'auto', 'leaf_size': 30, 'metric': 'minkowski', 'metric_params': None, 'n_jobs': None,                              'n_neighbors': 4, 'p': 2, 'weights': 'distance'}\n",
    "    - Model2 train acc_: 1.0\n",
    "    - Model2 test  acc_: 0.6875\n",
    "    - Slight increase in test accuracy compared to Mode13"
   ]
  },
  {
   "cell_type": "markdown",
   "id": "c382683f",
   "metadata": {},
   "source": [
    "##### Model Evaluation with confusion matrix"
   ]
  },
  {
   "cell_type": "code",
   "execution_count": 145,
   "id": "f33ee510",
   "metadata": {},
   "outputs": [],
   "source": [
    "#create pivot table to identify label sequence\n",
    "cm = pd.crosstab(y_test, pred_test)"
   ]
  },
  {
   "cell_type": "code",
   "execution_count": 159,
   "id": "ab583efe",
   "metadata": {},
   "outputs": [
    {
     "data": {
      "image/png": "[encoded data removed]",
      "text/plain": [
       "<Figure size 432x288 with 2 Axes>"
      ]
     },
     "metadata": {
      "needs_background": "light"
     },
     "output_type": "display_data"
    }
   ],
   "source": [
    "ConfusionMatrixDisplay(cm.values, display_labels = cm.index).plot()\n",
    "plt.show()"
   ]
  },
  {
   "cell_type": "markdown",
   "id": "8e053fb2",
   "metadata": {},
   "source": [
    "##### Model Evaluation with classification report"
   ]
  },
  {
   "cell_type": "code",
   "execution_count": 161,
   "id": "b2c56929",
   "metadata": {},
   "outputs": [
    {
     "name": "stdout",
     "output_type": "stream",
     "text": [
      "              precision    recall  f1-score   support\n",
      "\n",
      "           1       0.67      0.67      0.67        21\n",
      "           2       0.75      0.65      0.70        23\n",
      "           3       0.30      0.60      0.40         5\n",
      "           5       0.75      0.75      0.75         4\n",
      "           6       1.00      0.50      0.67         2\n",
      "           7       1.00      0.89      0.94         9\n",
      "\n",
      "    accuracy                           0.69        64\n",
      "   macro avg       0.74      0.68      0.69        64\n",
      "weighted avg       0.73      0.69      0.70        64\n",
      "\n"
     ]
    }
   ],
   "source": [
    "print(classification_report(y_test, pred_test, labels = cm.index))"
   ]
  },
  {
   "cell_type": "raw",
   "id": "1a4666d1",
   "metadata": {},
   "source": [
    "Conclusion\n",
    "\n",
    "Model Accuracy: 0.69\n",
    "Performance of the model precision, recall, and F1-score vary for each class. The model performs well in classifying classes 1, 2, 7, and 5, with an F1-score of 0.67, 0.70, 0.94, and 0.75 respectively. \n",
    "\n",
    "However, the model performs poorly in classifying class 3, with an F1-score of only 0.40. It suggests the model may have difficulty distinguishing between class 3 and other classes.\n",
    "\n",
    "Future Scope:\n",
    "Assess the cost of misclassification: Real-world impact: What are the real-world consequences of incorrectly classifying or missing instances of class 3? It could involve reputational damage, or other negative outcomes.\n",
    "Improving model accuracy by experimentation with other classification algorithms."
   ]
  }
 ],
 "metadata": {
  "kernelspec": {
   "display_name": "Python 3 (ipykernel)",
   "language": "python",
   "name": "python3"
  },
  "language_info": {
   "codemirror_mode": {
    "name": "ipython",
    "version": 3
   },
   "file_extension": ".py",
   "mimetype": "text/x-python",
   "name": "python",
   "nbconvert_exporter": "python",
   "pygments_lexer": "ipython3",
   "version": "3.9.7"
  }
 },
 "nbformat": 4,
 "nbformat_minor": 5
}
