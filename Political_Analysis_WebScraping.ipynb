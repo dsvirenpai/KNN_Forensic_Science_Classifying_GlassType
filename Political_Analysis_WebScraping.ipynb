{
 "cells": [
  {
   "cell_type": "markdown",
   "id": "c1c2aad3",
   "metadata": {},
   "source": [
    "<b>Concepts Used:</b>\n",
    "Web Scraping, Text Mining, VADER (Sentiment Analysis)"
   ]
  },
  {
   "cell_type": "code",
   "execution_count": 295,
   "id": "e64734ec",
   "metadata": {},
   "outputs": [],
   "source": [
    "#importing relevant packages\n",
    "import pandas as pd\n",
    "import matplotlib.pyplot as plt\n",
    "import numpy as np\n",
    "\n",
    "import newspaper\n",
    "from newspaper import Article\n",
    "from nltk.tokenize import sent_tokenize"
   ]
  },
  {
   "cell_type": "code",
   "execution_count": 296,
   "id": "44e09aac",
   "metadata": {},
   "outputs": [],
   "source": [
    "#Article urls related to the subject\n",
    "\n",
    "url1 = 'https://www.thequint.com/opinion/nitish-mamata-aap-congress-india-block-strength-weakness-bjp-rjd'\n",
    "url2 = 'https://www.thequint.com/news/politics/nitish-kumar-india-bloc-narendra-modi-nda-2024-elections-caste-census'\n",
    "url3 = 'https://www.aljazeera.com/features/2024/1/29/cracks-in-indias-opposition-alliance-against-pm-modi-ahead-of-elections'\n",
    "url4 = 'https://indianexpress.com/article/political-pulse/india-alliance-congress-tmc-west-bengal-ucc-pm-modi-9141700/'\n",
    "url5 = 'https://indianexpress.com/article/political-pulse/india-alliance-up-worry-rld-unhappy-seat-uncertainty-9143595/'\n",
    "url6 = 'https://www.bbc.com/news/world-asia-india-68125968'\n",
    "url7 = 'https://thewire.in/politics/the-india-alliance-must-forge-ahead-leaving-nitish-kumar-behind'\n",
    "url8 = 'https://www.rediff.com/news/report/india-alliance-is-only-for-lok-sabha-polls-not-states-congress/20240202.htm'\n",
    "url9 = 'https://www.livemint.com/politics/will-contest-with-india-alliance-for-lok-sabha-elections-2024-but-arvind-kejriwal-on-seat-sharing-11706489009182.html'\n",
    "url10 = 'https://www.telegraphindia.com/india/india-alliance-for-lok-sabha-elections-not-for-assembly-polls-in-states-congress-general-secretary-jairam-ramesh/cid/1997933'\n"
   ]
  },
  {
   "cell_type": "code",
   "execution_count": 297,
   "id": "5aa72067",
   "metadata": {},
   "outputs": [],
   "source": [
    "from vaderSentiment.vaderSentiment import SentimentIntensityAnalyzer\n",
    "\n",
    "\n",
    "def sentiment(url):\n",
    "    sentiment = SentimentIntensityAnalyzer() \n",
    "    art = Article(url, lang = 'en')\n",
    "    art.download()\n",
    "    art.parse()\n",
    "    scores_df = pd.DataFrame()\n",
    "    \n",
    "    for sent in sent_tokenize(art.text):\n",
    "        score_dict = sentiment.polarity_scores(sent)\n",
    "        value = pd.DataFrame(data = score_dict.values(), index = score_dict.keys()).transpose()\n",
    "        scores_df = pd.concat([scores_df, value])\n",
    "    \n",
    "    no_of_tokens = len(sent_tokenize(art.text))    \n",
    "    scores_df.index = np.arange(0, no_of_tokens)\n",
    "    \n",
    "    neg_scores_df = scores_df[(scores_df.compound < 0)]\n",
    "    \n",
    "    neg_sent_idx = list(neg_scores_df.index)\n",
    "    neg_sent = []\n",
    "    \n",
    "    for i in neg_sent_idx:\n",
    "        neg_sent.append(sent_tokenize(art.text)[i])\n",
    "    \n",
    "    \n",
    "    return(art.title, neg_scores_df, neg_sent)\n"
   ]
  },
  {
   "cell_type": "code",
   "execution_count": 285,
   "id": "1f6c3a91",
   "metadata": {},
   "outputs": [
    {
     "data": {
      "text/plain": [
       "('The Congress is INDIA Bloc’s Greatest Strength but Also Its Biggest Weakness',\n",
       "     neg   neu  pos  compound\n",
       " 2  0.34  0.66  0.0   -0.9313,\n",
       " ['But as in the earlier case, ego clashes, state-level political rivalries, turf wars, and an unstated battle over leadership roles are threatening to unravel the six-month-old opposition alliance.'])"
      ]
     },
     "execution_count": 285,
     "metadata": {},
     "output_type": "execute_result"
    }
   ],
   "source": [
    "#Article 1:\n",
    "sentiment(url1)"
   ]
  },
  {
   "cell_type": "code",
   "execution_count": 286,
   "id": "8c3bb1cd",
   "metadata": {},
   "outputs": [
    {
     "data": {
      "text/plain": [
       "('Nitish Kumar Re-Joins NDA: 4 Big Reasons Why This Will Harm INDIA Bloc',\n",
       "     neg   neu  pos  compound\n",
       " 1  0.07  0.93  0.0   -0.1695,\n",
       " ['INDIA bloc chairman and Congress president Mallikarjun Kharge said that they \"expected that Nitish would switch\" and that his decision hasn\\'t surprised them.'])"
      ]
     },
     "execution_count": 286,
     "metadata": {},
     "output_type": "execute_result"
    }
   ],
   "source": [
    "#Article 2:\n",
    "sentiment(url2)"
   ]
  },
  {
   "cell_type": "code",
   "execution_count": 287,
   "id": "09d12ed1",
   "metadata": {},
   "outputs": [
    {
     "data": {
      "text/plain": [
       "('Cracks in Indian opposition alliance against PM Modi ahead of elections',\n",
       "       neg    neu    pos  compound\n",
       " 3   0.126  0.752  0.121   -0.0387\n",
       " 4   0.095  0.905  0.000   -0.2500\n",
       " 15  0.134  0.779  0.087   -0.2960\n",
       " 20  0.149  0.851  0.000   -0.8338\n",
       " 25  0.130  0.870  0.000   -0.2023\n",
       " 45  0.081  0.919  0.000   -0.3182\n",
       " 50  0.143  0.857  0.000   -0.5423\n",
       " 53  0.256  0.744  0.000   -0.3412\n",
       " 67  0.216  0.784  0.000   -0.2960,\n",
       " ['But on Sunday, he broke away and instead joined hands with the National Democratic Alliance (NDA), a coalition of parties led by the BJP.',\n",
       "  'He resigned as chief minister, then was sworn in again, this time with his new partners — all within hours.',\n",
       "  '“The charges all the regional parties are making is that Congress is trying to put a lot of pressure on them and demanding a larger number of seats than they should get,” Sanjay Kumar, political analyst and psephologist, told Al Jazeera.',\n",
       "  '“It’s not just us but all constituents of the alliance were uncomfortable with them.”\\n\\nSimilarly, TMC’s Banerjee, while announcing her decision to break away from the alliance, cited a failure in seat-sharing talks with the Congress as one of the reasons for going into the polls solo.',\n",
       "  'The constituents of the alliance also accuse the Congress of delaying seat-sharing talks.',\n",
       "  '“In one of the meetings of the alliance, it was decided that in the states of Punjab and Kerala [election] would be fought in a similar manner.',\n",
       "  'Addressing a news conference on Saturday, Congress general secretary Jairam Ramesh conceded that Banerjee and Kumar’s exits were bad optics for INDIA.',\n",
       "  'It’s not good for INDIA’s image,” said Ramesh.',\n",
       "  '“Alliance or no alliance, it doesn’t affect the BJP.”'])"
      ]
     },
     "execution_count": 287,
     "metadata": {},
     "output_type": "execute_result"
    }
   ],
   "source": [
    "#Article 3:\n",
    "sentiment(url3)"
   ]
  },
  {
   "cell_type": "code",
   "execution_count": 288,
   "id": "daf249d9",
   "metadata": {},
   "outputs": [
    {
     "data": {
      "text/plain": [
       "('Today in Politics: For INDIA alliance, Bengal troubles deepen but can Congress and TMC patch up?',\n",
       "      neg    neu    pos  compound\n",
       " 1  0.213  0.787  0.000   -0.4019\n",
       " 2  0.134  0.810  0.056   -0.5043\n",
       " 4  0.222  0.778  0.000   -0.5719\n",
       " 7  0.086  0.831  0.083   -0.0276,\n",
       " ['And the alliance’s problems in Bengal only seem to be mounting.',\n",
       "  'West Bengal Chief Minister Mamata Banerjee who has said in the past that the Trinamool Congress (TMC) contest the elections alone and accused the Congress, Left, and BJP of being part of a nexus has stepped up the attacks by claiming that she was not sure if the Congress would win even 40 Lok Sabha seats in the coming elections.',\n",
       "  'But the Congress’s ally and the TMC’s bitter rival CPI(M) is against any understanding.',\n",
       "  'And more importantly, how will the INDIA grouping recover when all odds seem to be against it in Bengal, which the BJP has identified as a key battleground?'])"
      ]
     },
     "execution_count": 288,
     "metadata": {},
     "output_type": "execute_result"
    }
   ],
   "source": [
    "#Article 4:\n",
    "sentiment(url4)"
   ]
  },
  {
   "cell_type": "code",
   "execution_count": 289,
   "id": "705c36f9",
   "metadata": {},
   "outputs": [
    {
     "data": {
      "text/plain": [
       "('New worry for INDIA alliance in UP: Some in RLD unhappy about seat uncertainty',\n",
       "       neg    neu    pos  compound\n",
       " 3   0.064  0.936  0.000   -0.3412\n",
       " 4   0.098  0.902  0.000   -0.4404\n",
       " 7   0.131  0.869  0.000   -0.2755\n",
       " 8   0.094  0.906  0.000   -0.2411\n",
       " 16  0.124  0.806  0.071   -0.5719,\n",
       " ['“Despite what happens between the Congress and the SP, we will continue our alliance with the SP as going with the Congress, which lacks a voter base in the state, will not be beneficial for us.',\n",
       "  'Jayant ji and Akhilesh ji have refused to release which seats the RLD will get and this has resulted in some anxiety among leaders who are preparing to contest on the RLD symbol,” said a senior RLD leader.',\n",
       "  'But for seats such as Meerut, Muzaffarnagar, Nagina, Agra and Hathras, there is no certainty.',\n",
       "  'Hence, the candidates there are not sure about whether to keep their options open or not,” said the RLD functionary.',\n",
       "  'Also in Political Pulse | Behind Mamata attack on Congress, fear of split in Muslim vote, bid to retain supremacy\\n\\nMeanwhile, the SP played down the talk of displeasure in RLD ranks saying there is enough time to finalise which seats the RLD will contest.'])"
      ]
     },
     "execution_count": 289,
     "metadata": {},
     "output_type": "execute_result"
    }
   ],
   "source": [
    "#Article 5:\n",
    "sentiment(url5)"
   ]
  },
  {
   "cell_type": "code",
   "execution_count": 290,
   "id": "2fe06fa6",
   "metadata": {},
   "outputs": [
    {
     "data": {
      "text/plain": [
       "(\"India's opposition challenge to Modi may be imploding\",\n",
       "      neg    neu  pos  compound\n",
       " 3  0.145  0.855  0.0    -0.296,\n",
       " ['And it should defer to the regional partners in the rest of the states\".'])"
      ]
     },
     "execution_count": 290,
     "metadata": {},
     "output_type": "execute_result"
    }
   ],
   "source": [
    "#Article 6:\n",
    "sentiment(url6)"
   ]
  },
  {
   "cell_type": "code",
   "execution_count": 291,
   "id": "7912121c",
   "metadata": {},
   "outputs": [
    {
     "data": {
      "text/plain": [
       "('The INDIA Alliance Must Forge Ahead, Leaving Nitish Kumar Behind',\n",
       "       neg    neu    pos  compound\n",
       " 0   0.189  0.811  0.000   -0.2732\n",
       " 3   0.118  0.833  0.049   -0.5849\n",
       " 4   0.082  0.847  0.071   -0.1027\n",
       " 9   0.143  0.779  0.078   -0.3818\n",
       " 12  0.106  0.822  0.072   -0.2500,\n",
       " ['Yet another episode of unscrupulous trickery has materialised in Bihar.',\n",
       "  'The corollary to the new Nitish-antic is that the media, by and large, feels less reviled by this unprincipled shift and is more outraged by the greediness of the Congress in not having risen in time to Nitish Kumar’s selflessly Herculean determination to oust the ruling right-wing from power.',\n",
       "  'You see, if the corporate-chummy “nationalist” ruling party is to be kept in the saddle, the media must never cease to find the Congress in the wrong, whatever journalistic calisthenics the job may entail.',\n",
       "  'Mallikarjun Kharge’s elevation, by common consent, as “chairperson” of the INDIA alliance brought bad news to Nishit Kumar in that context.',\n",
       "  'The Congress may be blamed for having speculated that the next Nitish somersault may well happen if and when an alternate INDIA government came to power.'])"
      ]
     },
     "execution_count": 291,
     "metadata": {},
     "output_type": "execute_result"
    }
   ],
   "source": [
    "#Article 7:\n",
    "sentiment(url7)"
   ]
  },
  {
   "cell_type": "code",
   "execution_count": 292,
   "id": "18a60800",
   "metadata": {},
   "outputs": [
    {
     "data": {
      "text/plain": [
       "('INDIA alliance is only for Lok Sabha polls, not states: Congress',\n",
       "       neg    neu    pos  compound\n",
       " 5   0.134  0.866  0.000   -0.5423\n",
       " 8   0.130  0.870  0.000   -0.4588\n",
       " 9   0.203  0.696  0.101   -0.4939\n",
       " 13  0.053  0.900  0.047   -0.0772,\n",
       " ['Ramesh said that though in Maharashtra, the assembly polls will be fought together by Congress, NCP and Shiv Sena, in other state elections there will be no alliance of INDIA partners.',\n",
       "  'The Congress general secretary said that the INDIA alliance has been made to defeat the ideology of the BJP and RSS.',\n",
       "  \"Claiming that the country's Constitution and democracy are under threat, he said that it is necessary to defeat the BJP in order to save them.\",\n",
       "  '\"We look at it as a battle of ideologies,\" he said, claiming that the yatra, which started from ethnic strife-torn Manipur and is scheduled to end in Maharashtra on March 20 after traversing several states, was receiving huge response from people of all walks of life.'])"
      ]
     },
     "execution_count": 292,
     "metadata": {},
     "output_type": "execute_result"
    }
   ],
   "source": [
    "#Article 8:\n",
    "sentiment(url8)"
   ]
  },
  {
   "cell_type": "code",
   "execution_count": 293,
   "id": "40326eaa",
   "metadata": {},
   "outputs": [
    {
     "data": {
      "text/plain": [
       "('‘Will contest with INDIA alliance for Lok Sabha elections 2024, but…’: Arvind Kejriwal on seat sharing',\n",
       "       neg    neu    pos  compound\n",
       " 2   0.070  0.930  0.000   -0.3612\n",
       " 8   0.230  0.556  0.214   -0.0516\n",
       " 15  0.075  0.925  0.000   -0.2960,\n",
       " ['\"For the upcoming Lok Sabha elections we will contest elections together with the INDIA alliance but for the assembly elections, we will contest alone on all 90 seats of Haryana by itself,\" Kejriwal said.',\n",
       "  '\"People have been disillusioned with every party in Haryana.',\n",
       "  'Meanwhile, Punjab Chief Minister and AAP leader Bhagwant Mann had earlier said there will be no alliance with Congress for the upcoming Lok Sabha elections in the state.'])"
      ]
     },
     "execution_count": 293,
     "metadata": {},
     "output_type": "execute_result"
    }
   ],
   "source": [
    "#Article 9:\n",
    "sentiment(url9)"
   ]
  },
  {
   "cell_type": "code",
   "execution_count": 294,
   "id": "9136bba2",
   "metadata": {},
   "outputs": [
    {
     "data": {
      "text/plain": [
       "('INDIA alliance for Lok Sabha elections, not for assembly polls in states: Jairam Ramesh',\n",
       "       neg    neu    pos  compound\n",
       " 4   0.134  0.866  0.000   -0.5423\n",
       " 7   0.130  0.870  0.000   -0.4588\n",
       " 8   0.203  0.696  0.101   -0.4939\n",
       " 12  0.053  0.900  0.047   -0.0772,\n",
       " ['Ramesh said that though in Maharashtra, the assembly polls will be fought together by Congress, NCP and Shiv Sena, in other state elections there will be no alliance of INDIA partners.',\n",
       "  'The Congress general secretary said that the INDIA alliance has been made to defeat the ideology of the BJP and RSS.',\n",
       "  \"Claiming that the country's constitution and democracy are under threat, he said that it is necessary to defeat the BJP in order to save them.\",\n",
       "  '\"We look at it as a battle of ideologies,\" he said, claiming that the Yatra, which started from ethnic strife-torn Manipur and is scheduled to end in Maharashtra on March 20 after traversing several states, was receiving huge response from people of all walks of life.'])"
      ]
     },
     "execution_count": 294,
     "metadata": {},
     "output_type": "execute_result"
    }
   ],
   "source": [
    "#Article 10:\n",
    "sentiment(url10)"
   ]
  }
 ],
 "metadata": {
  "kernelspec": {
   "display_name": "Python 3 (ipykernel)",
   "language": "python",
   "name": "python3"
  },
  "language_info": {
   "codemirror_mode": {
    "name": "ipython",
    "version": 3
   },
   "file_extension": ".py",
   "mimetype": "text/x-python",
   "name": "python",
   "nbconvert_exporter": "python",
   "pygments_lexer": "ipython3",
   "version": "3.9.7"
  }
 },
 "nbformat": 4,
 "nbformat_minor": 5
}
